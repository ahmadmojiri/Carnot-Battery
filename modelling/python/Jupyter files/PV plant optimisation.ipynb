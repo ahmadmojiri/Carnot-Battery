{
 "cells": [
  {
   "cell_type": "markdown",
   "metadata": {},
   "source": [
    "# PV Plant with Thermal Battery\n"
   ]
  },
  {
   "cell_type": "markdown",
   "metadata": {},
   "source": [
    "This file runs the optimisation where the thermal storage system can be charged with:\n",
    "\n",
    "1) curtailed energy from the PV plant that would otherwise go to waste. <br>\n",
    "2) voluntarily stored energy from the PV plant that has been stored to take advantage of arbitrage despite large efficiency losses by doing so. <br>\n",
    "3) purchased energy from the grid. \n",
    "\n",
    "In particular, case number 2 will affect the output from the PV plant.\n",
    "\n",
    "Furthermore, there are two methods for optimising system sizing that includes\n",
    "\n",
    "1) The size of the thermal energy storage <br>\n",
    "2) The maximum charging rate of the thermal energy storage <br>\n",
    "3) The maximum output from the thermal energy storage <br>\n",
    "4) Oversizing of the PV plant \n",
    "\n",
    "The first method brings variables 1-3 into the MIP, with an optimisation wrapper in python that finds the best oversizing of the PV plant. \n",
    "\n",
    "The second method separates the design variables completely from the scheduling, where the optimisation wrapper in python optimises the design variables."
   ]
  },
  {
   "cell_type": "markdown",
   "metadata": {},
   "source": [
    "\n",
    "## Set the current path according to the operating system\n"
   ]
  },
  {
   "cell_type": "code",
   "execution_count": null,
   "metadata": {},
   "outputs": [],
   "source": [
    "import sys, os\n",
    "print(\"Operating system: %s\" %sys.platform)\n",
    "if sys.platform == 'win32':\n",
    "    curr_path = 'c:\\\\Nextcloud\\\\Thermal Battery Research\\\\modelling\\\\python'\n",
    "elif sys.platform == 'linux':\n",
    "    curr_path = '/home/jeff/cloud/documents/work/ANU/Thermal Battery Research/modelling/python'\n",
    "else: print(\"What operating system are you running?! I've never even heard of %s\" %sys.platform)\n",
    "if curr_path not in sys.path:\n",
    "    sys.path.append(curr_path)\n",
    "    print('Path added! \\n')\n",
    "os.chdir(curr_path)\n",
    "print(\"Working directory is now %s\" %curr_path)"
   ]
  },
  {
   "cell_type": "markdown",
   "metadata": {},
   "source": [
    "## Now, load the necessary packages"
   ]
  },
  {
   "cell_type": "code",
   "execution_count": null,
   "metadata": {},
   "outputs": [],
   "source": [
    "import pandas as pd\n",
    "from package.optimisation_PV_plant_SH_PB import calc_annual_cost, calc_rh_cost, \\\n",
    "    cals_S_perfect_foresight, load_simparams, optimise, plot_results\n",
    "from package.sim_classes import PSF_plant, PlantPerf_PVW\n",
    "import package.get_NEM_data as gd\n",
    "\n"
   ]
  }
 ],
 "metadata": {
  "kernelspec": {
   "display_name": "Python 3",
   "language": "python",
   "name": "python3"
  },
  "language_info": {
   "codemirror_mode": {
    "name": "ipython",
    "version": 3
   },
   "file_extension": ".py",
   "mimetype": "text/x-python",
   "name": "python",
   "nbconvert_exporter": "python",
   "pygments_lexer": "ipython3",
   "version": "3.8.3"
  }
 },
 "nbformat": 4,
 "nbformat_minor": 4
}
