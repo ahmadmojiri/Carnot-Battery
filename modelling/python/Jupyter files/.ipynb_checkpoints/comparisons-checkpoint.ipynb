{
 "cells": [
  {
   "cell_type": "markdown",
   "metadata": {},
   "source": [
    "# Comparisons between script and object oriented codes"
   ]
  },
  {
   "cell_type": "code",
   "execution_count": 2,
   "metadata": {},
   "outputs": [
    {
     "name": "stdout",
     "output_type": "stream",
     "text": [
      "Operating system: linux\n",
      "Path added! \n",
      "\n",
      "Working directory is now /home/jeff/cloud/documents/work/ANU/Thermal Battery Research/modelling/python\n"
     ]
    }
   ],
   "source": [
    "import sys, os\n",
    "print(\"Operating system: %s\" %sys.platform)\n",
    "if sys.platform == 'win32':\n",
    "    curr_path = 'c:\\\\Nextcloud\\\\Thermal Battery Research\\\\modelling\\\\python'\n",
    "elif sys.platform == 'linux':\n",
    "    curr_path = '/home/jeff/cloud/documents/work/ANU/Thermal Battery Research/modelling/python'\n",
    "else: print(\"What operating system are you running?! I've never even heard of %s\" %sys.platform)\n",
    "if curr_path not in sys.path:\n",
    "    sys.path.append(curr_path)\n",
    "    print('Path added! \\n')\n",
    "os.chdir(curr_path)\n",
    "print(\"Working directory is now %s\" %curr_path)"
   ]
  },
  {
   "cell_type": "code",
   "execution_count": 4,
   "metadata": {},
   "outputs": [
    {
     "name": "stdout",
     "output_type": "stream",
     "text": [
      "SA 2016 RTE=40 Ec=200 Pin_max=125 Pout_max=50\n",
      "Saving dzn file ...\n",
      "SA 2016 completed!\n",
      "SA 2017 RTE=40 Ec=200 Pin_max=125 Pout_max=50\n",
      "Saving dzn file ...\n",
      "SA 2017 completed!\n",
      "SA 2018 RTE=40 Ec=200 Pin_max=125 Pout_max=50\n",
      "Saving dzn file ...\n",
      "SA 2018 completed!\n",
      "\n",
      "Storage value database: 5514468\n",
      "\n",
      "Note that the object-oriented value has the charging efficiency at 0.99\n",
      "\n",
      "IRR database values: 3.27%\n",
      "IRR script values: 5.29%\n"
     ]
    }
   ],
   "source": [
    "from package.optimisation import calc_simple_SV_PF_const_Ec_comparison\n",
    "from package.optimisation import load_simparams\n",
    "from package.general_optimisation import Time\n",
    "from package.general_optimisation import Financials\n",
    "from package.general_optimisation import Market\n",
    "from package.general_optimisation import PowerCycle\n",
    "from package.general_optimisation import Storage\n",
    "from package.general_optimisation import Simulation\n",
    "import package.sql_manager as sm\n",
    "from numpy import irr\n",
    "from numpy import arange, empty, average\n",
    "import pandas as pd\n",
    "\n",
    "State = 'SA'\n",
    "Year = 2016\n",
    "RTE = 40\n",
    "Ec = 200\n",
    "Loss = 0\n",
    "Cap = 14500\n",
    "Pin_max = 125\n",
    "Pout_max = 50\n",
    "eta_in = 0.99\n",
    "\n",
    "Life = 20\n",
    "CPP = 1350e3\n",
    "CPE = 25e3\n",
    "\n",
    "CAPEX_US = (CPP * Pout_max + CPE * Ec / (RTE/100))   #verify that the price is expressed in thermal capacity in the source\n",
    "\n",
    "objoriented = True\n",
    "databases = False\n",
    "\n",
    "years = arange(Year,2019)\n",
    "\n",
    "exc_rate = pd.DataFrame({'year':arange(2010,2020,1),\n",
    "                     'AUD/USD':[0.92, 1.03, 1.04, 0.97, 0.9, 0.75, 0.74, \n",
    "                                0.77, 0.75, 0.7] }).set_index('year')\n",
    "\n",
    "SV_script_AU = empty(len(years))\n",
    "\n",
    "# === script ===\n",
    "for y,year in enumerate(years):\n",
    "\n",
    "    SV_script_AU[y] = calc_simple_SV_PF_const_Ec_comparison(State, year, RTE, \n",
    "                                                            Ec, Loss, Cap, \n",
    "                                                            Pin_max, Pout_max)\n",
    "\n",
    "\n",
    "SV_script_AU = average(SV_script_AU)\n",
    "SV_script_US = average(SV_script_AU * exc_rate.loc[years].values)\n",
    "IRR_script_list_US = [-CAPEX_US] + [SV_script_US]*Life\n",
    "IRR_script_US = round(irr(IRR_script_list_US), 4)\n",
    "\n",
    "\n",
    "# === object oriented ===\n",
    "\n",
    "if objoriented:\n",
    "    market = Market()\n",
    "    financials = Financials(lifetime = Life)\n",
    "\n",
    "    time = Time(str(Year),str(Year + 1))\n",
    "    storage = Storage(Pin_max, Ec, eta_rh = eta_in, C_st_cap = CPE, C_rh_single = 0)\n",
    "    powercycle = PowerCycle(Pout_max, RTE/100, C_pc_cap = CPP)\n",
    "\n",
    "    sim = Simulation(time, financials, market, storage, powercycle, region = State)\n",
    "    #sim.c[sim.c > Cap] = Cap\n",
    "    sim.optimise()\n",
    "\n",
    "    SV_object_AU = sim.revenue\n",
    "    SV_object_US = SV_object_AU * exc_rate.loc[Year].values[0]\n",
    "\n",
    "    print('Storage value script: %i' %int(SV_script_US))\n",
    "    \n",
    "    \n",
    "if databases:\n",
    "# === databases ===\n",
    "    db='storage_value_PF_simple_const_Ec'+'_%s.db'%(State)\n",
    "    table = sm.list_tables(db)[0]\n",
    "    cols = [col[0] for col in sm.list_columns(db,table)]\n",
    "    data = sm.get_data(cols,table,db)\n",
    "\n",
    "    SV_database_AU = data[(data['Ec']==Ec)&\n",
    "                       (data['rte']==RTE)&\n",
    "                       (data['loss']==0)&\n",
    "                       (data['cap']==14500)&\n",
    "                       (data['Pin_max']==50)&\n",
    "                       (data['Pout_max']==Pout_max)&\n",
    "                       (data['date_time']>=Year)].set_index('date_time').sort_index()['SV']\n",
    "\n",
    "    SV_database_US = (SV_database_AU * exc_rate.loc[years].values.T[0]).mean()\n",
    "    print('')\n",
    "    print('Storage value database: %i' %int(SV_database_US))\n",
    "    # Comparison of IRR calculations\n",
    "\n",
    "    # === database ===\n",
    "\n",
    "    IRR_database_list_US = [-CAPEX_US] + [SV_database_US]*Life\n",
    "    IRR_database_US = round(irr(IRR_database_list_US), 4)\n",
    "\n",
    "else: print('')\n",
    "\n",
    "\n",
    "if objoriented: print('Storage value object-oriented: %i' %int(SV_object_US))\n",
    "print('')\n",
    "if eta_in == 0.99: print(\"Note that the object-oriented value has the charging efficiency at 0.99\")\n",
    "    \n",
    "# === object-oriented ===\n",
    "# Note the the cost of the molten salt heaters is not included here \n",
    "\n",
    "if objoriented: \n",
    "    CAPEX_object_US = (sim.C_st_cap_total + sim.C_pc_cap_total) / sim.Financials.USD2AUD \n",
    "    CAPEX_object_AU = CAPEX_object_US * exc_rate.loc[Year].values[0]\n",
    "\n",
    "    IRR_object_list_US = [-CAPEX_object_US] + [SV_object_US]*Life\n",
    "    IRR_object_US = round(irr(IRR_object_list_US), 4)\n",
    "\n",
    "print('')\n",
    "if databases: print('IRR database values: %.2f%%' %(IRR_database_US*100))\n",
    "if objoriented: print('IRR object-oriented values: %.2f%%' %(IRR_object_US*100))\n",
    "print('IRR script values: %.2f%%' %(IRR_script_US*100))\n"
   ]
  },
  {
   "cell_type": "code",
   "execution_count": 12,
   "metadata": {},
   "outputs": [
    {
     "name": "stdout",
     "output_type": "stream",
     "text": [
      "[-80000000.0, 5514468.850720639, 5514468.850720639, 5514468.850720639, 5514468.850720639, 5514468.850720639, 5514468.850720639, 5514468.850720639, 5514468.850720639, 5514468.850720639, 5514468.850720639, 5514468.850720639, 5514468.850720639, 5514468.850720639, 5514468.850720639, 5514468.850720639, 5514468.850720639, 5514468.850720639, 5514468.850720639, 5514468.850720639, 5514468.850720639]\n"
     ]
    }
   ],
   "source": [
    "print(IRR_database_list_US)"
   ]
  },
  {
   "cell_type": "code",
   "execution_count": 10,
   "metadata": {},
   "outputs": [
    {
     "name": "stdout",
     "output_type": "stream",
     "text": [
      "111825000.0\n"
     ]
    }
   ],
   "source": [
    "print(sim.CAPEX)"
   ]
  },
  {
   "cell_type": "code",
   "execution_count": 20,
   "metadata": {},
   "outputs": [
    {
     "name": "stdout",
     "output_type": "stream",
     "text": [
      "0.07975464522424103\n"
     ]
    }
   ],
   "source": [
    "print(sim.IRR)\n"
   ]
  },
  {
   "cell_type": "code",
   "execution_count": 24,
   "metadata": {},
   "outputs": [
    {
     "name": "stdout",
     "output_type": "stream",
     "text": [
      "0.0\n"
     ]
    }
   ],
   "source": [
    "print(sim.Tank.C_rh_cap)"
   ]
  },
  {
   "cell_type": "code",
   "execution_count": 27,
   "metadata": {},
   "outputs": [
    {
     "name": "stdout",
     "output_type": "stream",
     "text": [
      "9688501.026020197\n"
     ]
    }
   ],
   "source": [
    "print(sim.revenue)"
   ]
  }
 ],
 "metadata": {
  "kernelspec": {
   "display_name": "Python 3",
   "language": "python",
   "name": "python3"
  },
  "language_info": {
   "codemirror_mode": {
    "name": "ipython",
    "version": 3
   },
   "file_extension": ".py",
   "mimetype": "text/x-python",
   "name": "python",
   "nbconvert_exporter": "python",
   "pygments_lexer": "ipython3",
   "version": "3.7.3"
  }
 },
 "nbformat": 4,
 "nbformat_minor": 4
}
