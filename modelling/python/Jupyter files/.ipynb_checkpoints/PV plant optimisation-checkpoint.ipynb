{
 "cells": [
  {
   "cell_type": "markdown",
   "metadata": {},
   "source": [
    "# PV Plant with Thermal Battery\n"
   ]
  },
  {
   "cell_type": "raw",
   "metadata": {},
   "source": []
  },
  {
   "cell_type": "markdown",
   "metadata": {},
   "source": [
    "This file runs the optimisation where the thermal storage system can be charged with:\n",
    "\n",
    "1) curtailed energy from the PV plant that would otherwise go to waste. <br>\n",
    "2) voluntarily stored energy from the PV plant that has been stored to take advantage of arbitrage despite large efficiency losses by doing so. <br>\n",
    "3) purchased energy from the grid. \n",
    "\n",
    "In particular, case number 2 will affect the output from the PV plant.\n",
    "\n",
    "There are four sizing variables that may be optimised.\n",
    "\n",
    "1) The size of the thermal energy storage <br>\n",
    "2) The maximum charging rate of the thermal energy storage <br>\n",
    "3) The maximum output from the thermal energy storage <br>\n",
    "4) Oversizing of the PV plant \n",
    "\n",
    "The first method brings variables 1-3 into the MIP, with an optimisation wrapper in python that finds the best oversizing of the PV plant. \n",
    "\n",
    "The second method separates the design variables completely from the scheduling, where the optimisation wrapper in python optimises the design variables."
   ]
  },
  {
   "cell_type": "markdown",
   "metadata": {},
   "source": [
    "\n",
    "## Set the current path according to the operating system\n"
   ]
  },
  {
   "cell_type": "code",
   "execution_count": 2,
   "metadata": {},
   "outputs": [
    {
     "name": "stdout",
     "output_type": "stream",
     "text": [
      "Operating system: linux\n",
      "Path added! \n",
      "\n",
      "Working directory is now /home/jeff/cloud/documents/work/ANU/Thermal Battery Research/modelling/python\n"
     ]
    }
   ],
   "source": [
    "import sys, os\n",
    "print(\"Operating system: %s\" %sys.platform)\n",
    "if sys.platform == 'win32':\n",
    "    curr_path = 'c:\\\\Nextcloud\\\\Thermal Battery Research\\\\modelling\\\\python'\n",
    "elif sys.platform == 'linux':\n",
    "    curr_path = '/home/jeff/cloud/documents/work/ANU/Thermal Battery Research/modelling/python'\n",
    "else: print(\"What operating system are you running?! I've never even heard of %s\" %sys.platform)\n",
    "if curr_path not in sys.path:\n",
    "    sys.path.append(curr_path)\n",
    "    print('Path added! \\n')\n",
    "os.chdir(curr_path)\n",
    "print(\"Working directory is now %s\" %curr_path)"
   ]
  },
  {
   "cell_type": "markdown",
   "metadata": {},
   "source": [
    "## Now, load the packages for the optimisation"
   ]
  },
  {
   "cell_type": "code",
   "execution_count": 3,
   "metadata": {},
   "outputs": [],
   "source": [
    "from package.general_optimisation import Time\n",
    "from package.general_optimisation import Financials\n",
    "from package.general_optimisation import Market\n",
    "from package.general_optimisation import PowerCycle\n",
    "from package.general_optimisation import PV_plant\n",
    "from package.general_optimisation import Inverter\n",
    "from package.general_optimisation import Storage\n",
    "from package.general_optimisation import Simulation\n",
    "from package.general_optimisation import Sensitivity\n"
   ]
  },
  {
   "cell_type": "markdown",
   "metadata": {},
   "source": [
    "# Save summary data to a database"
   ]
  },
  {
   "cell_type": "code",
   "execution_count": null,
   "metadata": {},
   "outputs": [],
   "source": [
    "import numpy as np\n",
    "\n",
    "financials = Financials(lifetime = 20, acc = 0.067)\n",
    "storage = Storage(C_st_cap = 23.3e3, C_rh_single = 100, eta_rh = 0.99)\n",
    "market = Market('rrp')\n",
    "\n",
    "inverter = Inverter(0.96)\n",
    "# plant = None\n",
    "\n",
    "regions = ['SA','NSW']\n",
    "years = np.arange(2010,2020)\n",
    "oversizings = np.array(list(np.arange(1.0,2.1,0.1)) + [None])\n",
    "eta_pcs = np.arange(0.4, 1.0, 0.1)\n",
    "\n",
    "os_dict = {}\n",
    "for oversizing in oversizings[:-1]:\n",
    "    print('generating solar plant with %.1f oversizing' %oversizing)\n",
    "    os_str = str(round(oversizing, 1))\n",
    "    os_dict.update({os_str: PV_plant('PSF')})\n",
    "    os_dict[os_str].set_oversize(oversizing)\n",
    "    \n",
    "for year in years:\n",
    "    for region in regions:\n",
    "        for oversizing in oversizings:\n",
    "            for eta_pc in eta_pcs:\n",
    "                print(year, region, oversizing, eta_pc)\n",
    "                if oversizing == None:\n",
    "                    plant == None\n",
    "                else:\n",
    "                    os_str = str(round(oversizing, 1))\n",
    "                    plant = os_dict[os_str]\n",
    "                    print(plant.oversize)\n",
    "                powercycle = PowerCycle(50, eta_pc = eta_pc, C_pc_cap = 1258e3, \n",
    "                        eta_pc_type = 'fixed', C_pc_cap_type = 'fixed')\n",
    "                time = Time(str(year), str(year + 1))\n",
    "                sim = Simulation(time, financials, market, storage, powercycle, plant, \n",
    "                                 inverter, region = region, verbose = False)\n",
    "                sim.optimise()\n",
    "                sim.write_summary_data()\n"
   ]
  },
  {
   "cell_type": "markdown",
   "metadata": {},
   "source": [
    "## Save a limited subset of time series data "
   ]
  },
  {
   "cell_type": "code",
   "execution_count": null,
   "metadata": {},
   "outputs": [],
   "source": [
    "import numpy as np\n",
    "\n",
    "financials = Financials(lifetime = 20, acc = 0.067)\n",
    "storage = Storage(C_st_cap = 23.3e3, C_rh_single = 100, eta_rh = 0.99)\n",
    "market = Market('rrp')\n",
    "\n",
    "inverter = Inverter(0.96)\n",
    "# plant = None\n",
    "\n",
    "regions = ['SA','NSW','SYS']\n",
    "years = [2019] #np.arange(2010,2020)\n",
    "oversizings = np.array(list(np.arange(1.0,2.1,0.1)) + [None])\n",
    "eta_pcs = [0.4] #np.arange(0.4, 1.0, 0.1)\n",
    "\n",
    "for year in years:\n",
    "    for region in regions:\n",
    "        for oversizing in oversizings:\n",
    "            for eta_pc in eta_pcs:\n",
    "                print(year, region, oversizing, eta_pc)\n",
    "                if oversizing == None:\n",
    "                    plant == None\n",
    "                else:\n",
    "                    plant = PV_plant('PSF')\n",
    "                    plant.set_oversize(oversizing)\n",
    "                powercycle = PowerCycle(50, eta_pc = eta_pc, C_pc_cap = 1258e3, \n",
    "                        eta_pc_type = 'fixed', C_pc_cap_type = 'fixed')\n",
    "                time = Time(str(year), str(year+1))\n",
    "                sim = Simulation(time, financials, market, storage, powercycle, plant, \n",
    "                                 inverter, region = region, verbose = False)\n",
    "                sim.optimise()\n",
    "                sim.write_schedule_data()"
   ]
  },
  {
   "cell_type": "markdown",
   "metadata": {},
   "source": [
    "## save summary data with no storage"
   ]
  },
  {
   "cell_type": "code",
   "execution_count": null,
   "metadata": {},
   "outputs": [],
   "source": [
    "import numpy as np\n",
    "\n",
    "financials = Financials(lifetime = 20, acc = 0.067)\n",
    "storage = Storage(C_st_cap = 23.3e3, C_rh_single = 100, eta_rh = 0.99, E_st_max = 0, P_st_in_max = 0)\n",
    "market = Market('rrp')\n",
    "\n",
    "inverter = Inverter(0.96)\n",
    "# plant = None\n",
    "\n",
    "regions = ['SA','NSW']\n",
    "years = np.arange(2016,2020)\n",
    "oversizings = np.array(list(np.arange(1.0,2.1,0.1)))  #Here I've removed the 'None' entry\n",
    "eta_pcs = [0.4] #irrelevant because there is no storage\n",
    "\n",
    "os_dict = {}\n",
    "for oversizing in oversizings:\n",
    "    print('generating solar plant with %.1f oversizing' %oversizing)\n",
    "    os_str = str(round(oversizing, 1))\n",
    "    os_dict.update({os_str: PV_plant('custom')})\n",
    "    os_dict[os_str].set_oversize(oversizing)\n",
    "    \n",
    "for year in years:\n",
    "    for region in regions:\n",
    "        for oversizing in oversizings:\n",
    "            for eta_pc in eta_pcs:\n",
    "                print(year, region, oversizing, eta_pc)\n",
    "                if oversizing == None:\n",
    "                    plant == None\n",
    "                else:\n",
    "                    os_str = str(round(oversizing, 1))\n",
    "                    plant = os_dict[os_str]\n",
    "                    print(plant.oversize)\n",
    "                powercycle = PowerCycle(1e-8, eta_pc = eta_pc, C_pc_cap = 1258e3, \n",
    "                        eta_pc_type = 'fixed', C_pc_cap_type = 'fixed')\n",
    "                time = Time(str(year), str(year + 1))\n",
    "                sim = Simulation(time, financials, market, storage, powercycle, plant, \n",
    "                                 inverter, region = region, verbose = False)\n",
    "                sim.optimise()\n",
    "                sim.write_summary_data()\n",
    "\n",
    "\n"
   ]
  },
  {
   "cell_type": "markdown",
   "metadata": {},
   "source": [
    "## Simulate changing the power cycle size (SH = 4, P_ts_in_max = P_pc_out_max / eta_pc)"
   ]
  },
  {
   "cell_type": "code",
   "execution_count": null,
   "metadata": {},
   "outputs": [],
   "source": [
    "import numpy as np\n",
    "\n",
    "#These simulations model changing the power cycle size while maintaining the storage hours the same\n",
    "#The maximum rate of energy storage charging is the power cycle size divided by the power cycle efficiency\n",
    "#so that the tank can be charged and discharged at the same rate\n",
    "\n",
    "financials = Financials(lifetime = 20, acc = 0.067)\n",
    "\n",
    "market = Market('rrp')\n",
    "\n",
    "inverter = Inverter(0.96)\n",
    "# plant = None\n",
    "\n",
    "regions = ['SA','NSW']\n",
    "years = np.arange(2016,2020)\n",
    "oversizings = np.array(list(np.arange(1.0,2.1,0.1)))  #Here I've removed the 'None' entry\n",
    "eta_pcs = np.array([0.4,0.9])\n",
    "P_pc_out_maxs = np.arange(10,101,10)\n",
    "SH = 4\n",
    "\n",
    "os_dict = {}\n",
    "for oversizing in oversizings:\n",
    "    print('generating solar plant with %.1f oversizing' %oversizing)\n",
    "    os_str = str(round(oversizing, 1))\n",
    "    os_dict.update({os_str: PV_plant('custom')})\n",
    "    os_dict[os_str].set_oversize(oversizing)\n",
    "    \n",
    "for year in years:\n",
    "    for region in regions:\n",
    "        for oversizing in oversizings:\n",
    "            for eta_pc in eta_pcs:\n",
    "                for P_pc_out_max in P_pc_out_maxs:\n",
    "                    print(year, region, oversizing, eta_pc, P_pc_out_max)\n",
    "                    if oversizing == None:\n",
    "                        plant == None\n",
    "                    else:\n",
    "                        os_str = str(round(oversizing, 1))\n",
    "                        plant = os_dict[os_str]\n",
    "                        print(plant.oversize)\n",
    "                    E_st_max = np.round(P_pc_out_max * SH / 5) * 5\n",
    "                    P_st_in_max = np.round(P_pc_out_max / eta_pc / 5) * 5\n",
    "                    print(\"max storage =\", E_st_max)\n",
    "                    print(\"max storage charge =\", P_st_in_max)\n",
    "                    storage = Storage(C_st_cap = 23.3e3, C_rh_single = 100, eta_rh = 0.99, \n",
    "                                      E_st_max = E_st_max, P_st_in_max = P_st_in_max)\n",
    "                    powercycle = PowerCycle(P_pc_out_max, eta_pc = eta_pc, C_pc_cap = 1258e3, \n",
    "                            eta_pc_type = 'fixed', C_pc_cap_type = 'fixed')\n",
    "                    time = Time(str(year), str(year + 1))\n",
    "                    sim = Simulation(time, financials, market, storage, powercycle, plant, \n",
    "                                     inverter, region = region, verbose = False)\n",
    "                    sim.optimise()\n",
    "                    sim.write_summary_data()"
   ]
  },
  {
   "cell_type": "markdown",
   "metadata": {},
   "source": [
    "## Making storage system with no PV plant"
   ]
  },
  {
   "cell_type": "code",
   "execution_count": 11,
   "metadata": {},
   "outputs": [
    {
     "name": "stdout",
     "output_type": "stream",
     "text": [
      "2016 SA 0.4 50\n",
      "max storage = 200.0\n",
      "max storage charge = 125.0\n",
      "=== SIMULATION DETAILS ===\n",
      "\n",
      "SA\n",
      "Storage efficiency: 0.40\n",
      "Simulation start time: 2016-01-01 00:00:00\n",
      "Simulation end time: 2017-01-01 00:00:00\n",
      "\n",
      "\n",
      "=== OPTIMISATION DETAILS ===\n",
      "\n",
      "Optimising tank charge rate: no\n",
      "Optimising tank size: no\n",
      "Optimising power cycle size: no\n",
      "\n",
      "Storage hours = 4.0\n",
      "Heater power in = 125.0\n",
      "Power cycle size = 50.0\n",
      "Revenue = 11368835\n",
      "Thermal heaters' cost = -0.00\n",
      "Thermal energy storage cost = -1615120.81\n",
      "Power cycle cost = -8720265.98\n",
      "profit = 1033448\n",
      "objective function string = obj = sum(i in tint)(c[i] * (P_out_grid[i] - P_in_grid[i]) * dt);\n",
      "Internal rate of return = 0.0798\n",
      "0.07975464522424103\n"
     ]
    }
   ],
   "source": [
    "import numpy as np\n",
    "\n",
    "financials = Financials(lifetime = 20, acc = 0.067)\n",
    "market = Market('rrp')\n",
    "inverter = Inverter(0.96)\n",
    "plant = None\n",
    "\n",
    "regions = ['SA'] #,'NSW']\n",
    "years = [2016] #np.arange(2016,2020)\n",
    "eta_pcs = [0.4] #, 0.9]\n",
    "P_pc_out_maxs = [50] #np.arange(10,101,10)\n",
    "SH = 4\n",
    "##\n",
    "E_st_max = 200.\n",
    "P_st_in_max = 50.\n",
    "\n",
    "for year in years:\n",
    "    for region in regions:\n",
    "            for eta_pc in eta_pcs:\n",
    "                for P_pc_out_max in P_pc_out_maxs:\n",
    "                    print(year, region, eta_pc, P_pc_out_max)\n",
    "                    E_st_max = np.round(P_pc_out_max * SH / 5) * 5\n",
    "                    P_st_in_max = np.round(P_pc_out_max / eta_pc / 5) * 5\n",
    "                    print(\"max storage =\", E_st_max)\n",
    "                    print(\"max storage charge =\", P_st_in_max)\n",
    "                    storage = Storage(C_st_cap = 23.3e3, C_rh_single = 0, eta_rh = 0.99, \n",
    "                                      E_st_max = E_st_max, P_st_in_max = P_st_in_max)\n",
    "                    powercycle = PowerCycle(P_pc_out_max, eta_pc = eta_pc, C_pc_cap = 1258e3, \n",
    "                            eta_pc_type = 'fixed', C_pc_cap_type = 'fixed')\n",
    "                    time = Time(str(year), str(year + 1))\n",
    "                    sim = Simulation(time, financials, market, storage, powercycle, plant, \n",
    "                                     inverter, region = region, verbose = True)\n",
    "                    sim.optimise()\n",
    "                    print(sim.IRR)\n",
    "                    #sim.write_summary_data()\n"
   ]
  },
  {
   "cell_type": "markdown",
   "metadata": {},
   "source": [
    "## Sweeping charge and discharge rate for the no PV case"
   ]
  },
  {
   "cell_type": "code",
   "execution_count": 4,
   "metadata": {},
   "outputs": [
    {
     "ename": "NameError",
     "evalue": "name 'SH' is not defined",
     "output_type": "error",
     "traceback": [
      "\u001b[0;31m---------------------------------------------------------------------------\u001b[0m",
      "\u001b[0;31mNameError\u001b[0m                                 Traceback (most recent call last)",
      "\u001b[0;32m<ipython-input-4-0857227ea879>\u001b[0m in \u001b[0;36m<module>\u001b[0;34m\u001b[0m\n\u001b[1;32m     22\u001b[0m                     \u001b[0mP_st_in_max\u001b[0m \u001b[0;34m=\u001b[0m \u001b[0mCPH\u001b[0m \u001b[0;34m*\u001b[0m \u001b[0mE_st_max\u001b[0m \u001b[0;34m/\u001b[0m \u001b[0meta_pc\u001b[0m\u001b[0;34m\u001b[0m\u001b[0;34m\u001b[0m\u001b[0m\n\u001b[1;32m     23\u001b[0m \u001b[0;34m\u001b[0m\u001b[0m\n\u001b[0;32m---> 24\u001b[0;31m                     \u001b[0mprint\u001b[0m\u001b[0;34m(\u001b[0m\u001b[0mregion\u001b[0m\u001b[0;34m,\u001b[0m \u001b[0myear\u001b[0m\u001b[0;34m,\u001b[0m \u001b[0mSH\u001b[0m\u001b[0;34m,\u001b[0m \u001b[0mCH\u001b[0m\u001b[0;34m,\u001b[0m \u001b[0meta_pc\u001b[0m\u001b[0;34m)\u001b[0m\u001b[0;34m\u001b[0m\u001b[0;34m\u001b[0m\u001b[0m\n\u001b[0m\u001b[1;32m     25\u001b[0m \u001b[0;34m\u001b[0m\u001b[0m\n\u001b[1;32m     26\u001b[0m                     \u001b[0mstorage\u001b[0m \u001b[0;34m=\u001b[0m \u001b[0mStorage\u001b[0m\u001b[0;34m(\u001b[0m\u001b[0mP_st_in_max\u001b[0m \u001b[0;34m=\u001b[0m \u001b[0mP_st_in_max\u001b[0m\u001b[0;34m,\u001b[0m \u001b[0mE_st_max\u001b[0m \u001b[0;34m=\u001b[0m \u001b[0mE_st_max\u001b[0m\u001b[0;34m)\u001b[0m\u001b[0;34m\u001b[0m\u001b[0;34m\u001b[0m\u001b[0m\n",
      "\u001b[0;31mNameError\u001b[0m: name 'SH' is not defined"
     ]
    }
   ],
   "source": [
    "from package.general_optimisation import Time, Financials, Market, PowerCycle, \\\n",
    "    PV_plant, Inverter, Storage, Simulation, Sensitivity, write_summary_data, \\\n",
    "    write_normalised_data\n",
    "\n",
    "from numpy import arange\n",
    "\n",
    "financials = Financials()\n",
    "market = Market('rrp')\n",
    "E_st_max = 1\n",
    "\n",
    "for eta_pc in arange(0.4,0.91,0.1):\n",
    "\n",
    "    for region in ['SA', 'NSW']:\n",
    "\n",
    "        for year in arange(2016, 2020):\n",
    "            time = Time(str(year),str(year + 1))\n",
    "\n",
    "            for SPH in arange(0.05, 1.01, 0.05):\n",
    "                P_pc_out_max = SPH * E_st_max\n",
    "\n",
    "                for CPH in arange(0.05, 1.01, 0.05):\n",
    "                    P_st_in_max = CPH * E_st_max / eta_pc\n",
    "\n",
    "                    print(region, year, SPH, CPH, eta_pc)\n",
    "\n",
    "                    storage = Storage(P_st_in_max = P_st_in_max, E_st_max = E_st_max)\n",
    "                    powercycle = PowerCycle(P_pc_out_max, eta_pc = eta_pc)\n",
    "\n",
    "                    sim = Simulation(time, financials, market, storage, powercycle, region = region, verbose = False)\n",
    "\n",
    "                    sim.optimise()\n",
    "\n",
    "                    write_normalised_data(sim)\n",
    "                "
   ]
  },
  {
   "cell_type": "code",
   "execution_count": null,
   "metadata": {},
   "outputs": [],
   "source": []
  }
 ],
 "metadata": {
  "kernelspec": {
   "display_name": "Python 3",
   "language": "python",
   "name": "python3"
  },
  "language_info": {
   "codemirror_mode": {
    "name": "ipython",
    "version": 3
   },
   "file_extension": ".py",
   "mimetype": "text/x-python",
   "name": "python",
   "nbconvert_exporter": "python",
   "pygments_lexer": "ipython3",
   "version": "3.7.3"
  }
 },
 "nbformat": 4,
 "nbformat_minor": 4
}
