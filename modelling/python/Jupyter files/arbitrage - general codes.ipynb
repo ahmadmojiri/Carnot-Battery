{
 "cells": [
  {
   "cell_type": "markdown",
   "metadata": {},
   "source": [
    "# <center> Storage Codes\n",
    "This file contains several codes that analyze the energy storage value under different circumstances."
   ]
  },
  {
   "cell_type": "markdown",
   "metadata": {},
   "source": [
    "If you want to change the notebook dashboard directory to see these notebooks:<br>\n",
    "1- run anaconda prompt <br>\n",
    "2- execute the following in the anaconda prompt window: <br>\n",
    "```jupyter notebook --notebook-dir=path```. ```path``` can be something like this: ```c:\\NextCloud```"
   ]
  },
  {
   "cell_type": "markdown",
   "metadata": {},
   "source": [
    "# Initiate the codes"
   ]
  },
  {
   "cell_type": "code",
   "execution_count": null,
   "metadata": {
    "jupyter": {
     "outputs_hidden": false
    },
    "scrolled": true
   },
   "outputs": [],
   "source": [
    "import sys, os\n",
    "print(\"Operating system: %s\" %sys.platform)\n",
    "if sys.platform == 'win32':\n",
    "    curr_path = 'c:\\\\Nextcloud\\\\Thermal Battery Research\\\\modelling\\\\python'\n",
    "elif sys.platform == 'linux':\n",
    "    curr_path = '/home/jeff/cloud/documents/work/ANU/Thermal Battery Research/modelling/python'\n",
    "else: print(\"What operating system are you running?! I've never even heard of %s\" %sys.platform)\n",
    "if curr_path not in sys.path:\n",
    "    sys.path.append(curr_path)\n",
    "    print('Path added! \\n')\n",
    "os.chdir(curr_path)\n",
    "print(\"Working directory is now %s\" %curr_path)\n",
    "import numpy as np\n",
    "import multiprocessing as mp\n",
    "import package.sql_manager as sm\n",
    "import pdb\n",
    "\n"
   ]
  },
  {
   "cell_type": "markdown",
   "metadata": {},
   "source": [
    "# Create storage values for perfect foresight (no charge/discharge details)\n",
    "This code genrates the annual storage value without recording the half-hourly charge/discharge details"
   ]
  },
  {
   "cell_type": "code",
   "execution_count": null,
   "metadata": {
    "jupyter": {
     "outputs_hidden": false
    }
   },
   "outputs": [],
   "source": [
    "import sys, os\n",
    "print(\"Operating system: %s\" %sys.platform)\n",
    "curr_path = 'c:\\\\Nextcloud\\\\Thermal Battery Research\\\\modelling\\\\python'\n",
    "\n",
    "if curr_path not in sys.path:\n",
    "    sys.path.append(curr_path)\n",
    "    print('Path added! \\n')\n",
    "os.chdir(curr_path)\n",
    "print(\"Working directory is now %s\" %curr_path)\n",
    "    \n",
    "import numpy as np\n",
    "import multiprocessing as mp\n",
    "from package.optimisation import calc_simple_SV_PF\n",
    "calc_simple_SV_PF('SA', 2021, [90], [10], [0], [14500],[50],[50], write=False)\n",
    "\n",
    "# pool = mp.Pool(7)#mp.Pool(mp.cpu_count()-1)\n",
    "# print('Started!')\n",
    "# output = [pool.apply_async(calc_simple_SV_PF, args=(State, Year, RTE, SH,\n",
    "#                                                     Loss, Cap, Pin_maxs,\n",
    "#                                                     Pout_maxs, write))\n",
    "#           for write in ([True])\n",
    "#           for State in ['SA']\n",
    "#           for RTE in [np.arange(30,110,10)]\n",
    "#           for SH in [np.arange(1,20,1)]\n",
    "#           for Pin_maxs in [np.arange(50,51,1)]\n",
    "#           for Pout_maxs in [np.arange(50,51,1)]\n",
    "#           for Year in np.arange(2010,2023,1)\n",
    "#           for Loss in [[0]]\n",
    "#           for Cap in [[14500]] ]             \n",
    "# pool.close()\n",
    "# pool.join()\n",
    "# print('Completed!')\n",
    "\n"
   ]
  },
  {
   "cell_type": "markdown",
   "metadata": {},
   "source": [
    "# Create SV for the NEM with cap contracts"
   ]
  },
  {
   "cell_type": "code",
   "execution_count": null,
   "metadata": {},
   "outputs": [],
   "source": [
    "import sys, os\n",
    "print(\"Operating system: %s\" %sys.platform)\n",
    "curr_path = 'c:\\\\Nextcloud\\\\Thermal Battery Research\\\\modelling\\\\python'\n",
    "\n",
    "if curr_path not in sys.path:\n",
    "    sys.path.append(curr_path)\n",
    "    print('Path added! \\n')\n",
    "os.chdir(curr_path)\n",
    "print(\"Working directory is now %s\" %curr_path)\n",
    "\n",
    "\n",
    "import numpy as np\n",
    "import numpy_financial as npf\n",
    "import pandas as pd\n",
    "from projdirs import datadir, figdir, resultsdir, paperdir\n",
    "import matplotlib.pyplot as plt\n",
    "import matplotlib as mpl\n",
    "import package.sql_manager as sm\n",
    "import pdb\n",
    "import matplotlib.gridspec as gridspec\n",
    "import package.get_NEM_data as gd\n",
    "\n",
    "\n",
    "cap_sampling = 'annually'\n",
    "\n",
    "db='storage_value_PF_simple_SA.db'\n",
    "table='storage_value'\n",
    "\n",
    "SV_main = sm.get_data('N/A',table,db)\n",
    "\n",
    "for Year in np.arange(2010,2023,1):\n",
    "    \n",
    "    SV = SV_main[(SV_main.cap == 14500)&\n",
    "#                  (SV_main.sh == 18)&\n",
    "                 (SV_main.date_time == Year)&\n",
    "                 (SV_main.loss == 0)&\n",
    "                 (SV_main.Pout_max == 50)&\n",
    "                 (SV_main.Pin_max == 50)].sort_values(['date_time', 'rte'])\n",
    "\n",
    "    \n",
    "    SP = gd.load_rrp_cal(Year,'SA')\n",
    "    SP = pd.DataFrame(SP)\n",
    "    SP['cap'] = 300\n",
    "    SP['cap_expens'] = SP.spot_price - SP.cap\n",
    "    SP.loc[SP.spot_price<300, ['cap_expens']] = 0\n",
    "\n",
    "    SP.cap_expens = SP.cap_expens*50*.5\n",
    "    cap_exp = SP.groupby(SP.index.to_period('Q'))['cap_expens'].sum().to_list()\n",
    "\n",
    "    SP['cap_rev'] = 0.5 * 50 \n",
    "    capacity = SP.groupby(SP.index.to_period('Q'))['cap_rev'].sum().to_list()\n",
    "    capacity_price = gd.get_NEM_cap_price('SA',Year).price.round(2).tolist()\n",
    "    cap_rev = [int(i*j) for i,j in zip(capacity,capacity_price)]\n",
    "    \n",
    "    SV['cap_prices'] = len(SV)*[str(capacity_price)]\n",
    "    SV['cap_rev'] = len(SV)*[str(cap_rev)]\n",
    "    SV['cap_value'] = sum(cap_rev) - sum(cap_exp)\n",
    "    SV['SV_total'] = SV.SV + sum(cap_rev) - sum(cap_exp)\n",
    "    SV['cap_sampling'] = cap_sampling\n",
    "    SV.reset_index(drop=True)\n",
    "    \n",
    "    db = 'SV_NEM_cap_contract.db'\n",
    "    table='storage_value'\n",
    "\n",
    "    cols = SV.columns\n",
    "    idx_cols = cols[0:9].tolist() + [cols[-1]]\n",
    "\n",
    "    sm.replace_into_db(SV, db, table, cols, create_unique_idx=True, idx_cols=idx_cols)\n",
    "\n",
    "\n"
   ]
  },
  {
   "cell_type": "markdown",
   "metadata": {},
   "source": [
    "# Create SV for PJM with perfect foresight"
   ]
  },
  {
   "cell_type": "code",
   "execution_count": null,
   "metadata": {},
   "outputs": [],
   "source": [
    "import sys, os\n",
    "print(\"Operating system: %s\" %sys.platform)\n",
    "curr_path = 'c:\\\\Nextcloud\\\\Thermal Battery Research\\\\modelling\\\\python'\n",
    "\n",
    "if curr_path not in sys.path:\n",
    "    sys.path.append(curr_path)\n",
    "    print('Path added! \\n')\n",
    "os.chdir(curr_path)\n",
    "print(\"Working directory is now %s\" %curr_path)\n",
    "    \n",
    "import numpy as np\n",
    "import multiprocessing as mp\n",
    "from package.optimisation import calc_simple_SV_PF_PJM_da_rt\n",
    "\n",
    "\n",
    "# calc_simple_SV_PF_PJM_da_rt(['BGE'], 2019, [90,100], [10],\n",
    "#                             [0], [50], [50],\n",
    "#                              write=True)\n",
    "\n",
    "\n",
    "pool = mp.Pool(7)#mp.Pool(mp.cpu_count()-1)\n",
    "print('Started!')\n",
    "output = [pool.apply_async(calc_simple_SV_PF_PJM_da_rt, args=(zone_list, Year, RTEs,\n",
    "                                                              SHs, Losses, Pin_maxs,\n",
    "                                                              Pout_maxs, write))\n",
    "          for write in ([True])\n",
    "          for zone_list in [['BGE']]\n",
    "          for RTEs in [np.arange(30,110,100).tolist()]\n",
    "          for SHs in [np.arange(1,19,1).tolist()]\n",
    "          for Pin_maxs in [np.arange(50,51,1)]\n",
    "          for Pout_maxs in [np.arange(50,51,1)]\n",
    "          for Losses in [[0]]\n",
    "          for Year in np.arange(2014,2020,1)\n",
    "          \n",
    "          ]             \n",
    "\n",
    "pool.close()\n",
    "pool.join()\n",
    "print('Completed!')"
   ]
  },
  {
   "cell_type": "markdown",
   "metadata": {},
   "source": [
    "# Add the new PJM SV with no capacity payements into the results databse"
   ]
  },
  {
   "cell_type": "code",
   "execution_count": null,
   "metadata": {},
   "outputs": [],
   "source": [
    "db='storage_value_PF_simple_PJM_dart.db'\n",
    "table='storage_value'\n",
    "data = sm.get_data('N/A',table, db)\n",
    "data['arbi_type'] = 'DA+RT'\n",
    "data[data.date_time>2019]\n",
    "\n",
    "\n",
    "db = 'storage_value_PF_simple_PJM.db'\n",
    "table = 'storage_value'\n",
    "DATA = sm.get_data('N/A',table, db)\n",
    "\n",
    "DATA = DATA.append(data)\n",
    "\n",
    "db = 'storage_value_PF_simple_PJM_2.db'\n",
    "table = 'storage_value'\n",
    "\n",
    "\n",
    "cols = DATA.columns.tolist()\n",
    "sm.replace_into_db(DATA,db,table,cols,\n",
    "                   create_unique_idx=True,\n",
    "                   idx_cols=DATA.columns.tolist()[0:-1])"
   ]
  },
  {
   "cell_type": "markdown",
   "metadata": {},
   "source": [
    "# Create SV for PJM with capacity payments"
   ]
  },
  {
   "cell_type": "code",
   "execution_count": null,
   "metadata": {},
   "outputs": [],
   "source": [
    "import sys, os\n",
    "print(\"Operating system: %s\" %sys.platform)\n",
    "curr_path = 'c:\\\\Nextcloud\\\\Thermal Battery Research\\\\modelling\\\\python'\n",
    "\n",
    "if curr_path not in sys.path:\n",
    "    sys.path.append(curr_path)\n",
    "    print('Path added! \\n')\n",
    "os.chdir(curr_path)\n",
    "print(\"Working directory is now %s\" %curr_path)\n",
    "\n",
    "\n",
    "import numpy as np\n",
    "import numpy_financial as npf\n",
    "import pandas as pd\n",
    "from projdirs import datadir, figdir, resultsdir, paperdir\n",
    "import matplotlib.pyplot as plt\n",
    "import matplotlib as mpl\n",
    "import package.sql_manager as sm\n",
    "import pdb\n",
    "import matplotlib.gridspec as gridspec\n",
    "import package.get_NEM_data as gd\n",
    "\n",
    "Year = 2022\n",
    "\n",
    "db='storage_value_PF_simple_PJM_dart.db'\n",
    "table='storage_value'\n",
    "data = sm.get_data('N/A', 'N/A', db)\n",
    "\n",
    "data.rename(columns={'date_time':'year', 'Pin_max':'pin_max',\n",
    "                     'Pout_max':'pout_max','SV':'SV_arbi'}, inplace=True)\n",
    "slice = data[data.year==Year].copy()\n",
    "\n",
    "\n",
    "#load the cpacity price\n",
    "db = 'capacity_price_PJM.db'\n",
    "sm.get_data('N/A','N/A', db)\n",
    "capacity_unit_value = (\n",
    "                        len(pd.date_range('1/January/%d'%(Year), '1/October/%d'%(Year), freq='1d')) *\n",
    "                            gd.get_capa_price(Year-1,'BGE') +\n",
    "                        len(pd.date_range('1/October/%d'%(Year), '1/January/%d'%(Year+1), freq='1d')) *\n",
    "                            gd.get_capa_price(Year,'BGE')\n",
    "                        )\n",
    "capacity_unit_value\n",
    "\n",
    "slice['SV_capa'] = capacity_unit_value * slice.pout_max\n",
    "slice['SV_total'] = slice.SV_arbi + slice.SV_capa\n",
    "slice['arbi_type'] = 'DA+RT'\n",
    "\n",
    "\n",
    "cols = slice.columns.tolist()\n",
    "db = 'storage_value_arbi_capacity_PJM.db'\n",
    "table='storage_value'\n",
    "\n",
    "sm.replace_into_db(slice,db,table,cols,create_unique_idx=True,idx_cols=cols[0:7])\n"
   ]
  },
  {
   "cell_type": "markdown",
   "metadata": {},
   "source": [
    "# Create SV for constant Ec and perfect foresight"
   ]
  },
  {
   "cell_type": "code",
   "execution_count": null,
   "metadata": {
    "jupyter": {
     "outputs_hidden": false
    }
   },
   "outputs": [],
   "source": [
    "import sys, os\n",
    "print(\"Operating system: %s\" %sys.platform)\n",
    "if sys.platform == 'win32':\n",
    "    curr_path = 'c:\\\\Nextcloud\\\\Thermal Battery Research\\\\modelling\\\\python'\n",
    "elif sys.platform == 'linux':\n",
    "    curr_path = '/home/jeff/cloud/documents/work/ANU/Thermal Battery Research/modelling/python'\n",
    "else: print(\"What operating system are you running?! I've never even heard of %s\" %sys.platform)\n",
    "if curr_path not in sys.path:\n",
    "    sys.path.append(curr_path)\n",
    "    print('Path added! \\n')\n",
    "os.chdir(curr_path)\n",
    "print(\"Working directory is now %s\" %curr_path)\n",
    "    \n",
    "import numpy as np\n",
    "import multiprocessing as mp\n",
    "from package.optimisation import calc_simple_SV_PF_const_Ec\n",
    "# calc_simple_SV_PF_const_Ec('QLD', 2010, [40,50], [50], [0], [14500],[5,10],[15,20], write=True)\n",
    "\n",
    "pool = mp.Pool(mp.cpu_count())\n",
    "print('Started!')\n",
    "output = [pool.apply_async(calc_simple_SV_PF_const_Ec, args=(State, Year, RTE, Ec,\n",
    "                                                             Loss, Cap, Pin_maxs,\n",
    "                                                             Pout_maxs, write))\n",
    "          for write in ([True])\n",
    "          for State in ['SA']\n",
    "          for RTE in [np.arange(50,90,10)]\n",
    "          for Ec in [np.arange(100,500,50)]\n",
    "          for Pin_maxs in [np.arange(50,55,10)]\n",
    "          for Pout_maxs in [np.arange(50,55,10)]\n",
    "          for Year in np.arange(2010,2020,1)\n",
    "          for Loss in [[0]]\n",
    "          for Cap in [[14500]] ]             \n",
    "pool.close()\n",
    "print('Completed!')\n",
    "\n"
   ]
  },
  {
   "cell_type": "markdown",
   "metadata": {},
   "source": [
    "# Create storage value including the generated energy for SA"
   ]
  },
  {
   "cell_type": "code",
   "execution_count": null,
   "metadata": {},
   "outputs": [],
   "source": [
    "import sys, os\n",
    "print(\"Operating system: %s\" %sys.platform)\n",
    "curr_path = 'c:\\\\Nextcloud\\\\Thermal Battery Research\\\\modelling\\\\python'\n",
    "\n",
    "if curr_path not in sys.path:\n",
    "    sys.path.append(curr_path)\n",
    "    print('Path added! \\n')\n",
    "os.chdir(curr_path)\n",
    "print(\"Working directory is now %s\" %curr_path)\n",
    "    \n",
    "import numpy as np\n",
    "import multiprocessing as mp\n",
    "from package.optimisation import calc_simple_SV_PF_Eout\n",
    "# calc_simple_SV_PF_Eout('SA', 2010, [40,50], [50], [0], [14500],[5,10],[15,20], write=False)\n",
    "\n",
    "pool = mp.Pool(mp.cpu_count())\n",
    "print('Started!')\n",
    "output = [pool.apply_async(calc_simple_SV_PF_Eout, args=(State, Year, RTEs, SHs,\n",
    "                                                             Loss, Cap, Pin_maxs,\n",
    "                                                             Pout_maxs, write))\n",
    "          for write in ([True])\n",
    "          for State in ['SA']\n",
    "          for RTEs in [np.arange(30,100,10)]\n",
    "          for SHs in [np.arange(1,20,1)]\n",
    "          for Pin_maxs in [np.arange(50,55,10)]\n",
    "          for Pout_maxs in [np.arange(50,55,10)]\n",
    "          for Year in np.arange(2020,2021,1)\n",
    "          for Loss in [[0]]\n",
    "          for Cap in [[14500]] ]             \n",
    "pool.close()\n",
    "print('Completed!')\n",
    "\n"
   ]
  },
  {
   "cell_type": "markdown",
   "metadata": {},
   "source": [
    "# Create detailed storage performance for energy market (arbitrage) only - Perfect foresight\n",
    "Write the results into ```storage_value_arbitrage.db```"
   ]
  },
  {
   "cell_type": "code",
   "execution_count": null,
   "metadata": {
    "jupyter": {
     "outputs_hidden": true
    }
   },
   "outputs": [],
   "source": [
    "import sys, os\n",
    "print(\"Operating system: %s\" %sys.platform)\n",
    "if sys.platform == 'win32':\n",
    "    curr_path = 'c:\\\\Nextcloud\\\\Thermal Battery Research\\\\modelling\\\\python'\n",
    "elif sys.platform == 'linux':\n",
    "    curr_path = '/home/jeff/cloud/documents/work/ANU/Thermal Battery Research/modelling/python'\n",
    "else: print(\"What operating system are you running?! I've never even heard of %s\" %sys.platform)\n",
    "if curr_path not in sys.path:\n",
    "    sys.path.append(curr_path)\n",
    "    print('Path added! \\n')\n",
    "os.chdir(curr_path)\n",
    "print(\"Working directory is now %s\" %curr_path)\n",
    "    \n",
    "import numpy as np\n",
    "import multiprocessing as mp\n",
    "from package.optimisation import calc_S_perfect_foresight\n",
    "# calc_S_perfect_foresight('SA', 2018, 90, 10, 0, 14500, write=True)\n",
    "pool = mp.Pool(mp.cpu_count())\n",
    "print('Started!')\n",
    "output = [pool.apply_async(calc_S_perfect_foresight, args=(State, Year, RTE, SH, Loss, Cap, write))\n",
    "          for write in ([True])\n",
    "          for State in ['SA','NSW']\n",
    "          for RTE in [70,80,100]\n",
    "          for Year in np.arange(2010,2019,1)\n",
    "          for SH in [10]\n",
    "          for Loss in [0]\n",
    "          for Cap in [14500]]             \n",
    "pool.close()\n",
    "pool.join()\n",
    "print('Completed!')\n",
    "\n"
   ]
  },
  {
   "cell_type": "markdown",
   "metadata": {
    "slideshow": {
     "slide_type": "slide"
    }
   },
   "source": [
    "# Create Storage values for Energy market with 24-hr foresight\n",
    "This code calculates the storage value based on the forecast prices read from ```predispatch.db```. <br>\n",
    "This code write the data into ```storage_value_daily_forecast.db```"
   ]
  },
  {
   "cell_type": "code",
   "execution_count": null,
   "metadata": {
    "jupyter": {
     "outputs_hidden": false
    }
   },
   "outputs": [],
   "source": [
    "import sys, os\n",
    "print(\"Operating system: %s\" %sys.platform)\n",
    "\n",
    "curr_path = 'c:\\\\Nextcloud\\\\Thermal Battery Research\\\\modelling\\\\python'\n",
    "\n",
    "if curr_path not in sys.path:\n",
    "    sys.path.append(curr_path)\n",
    "    print('Path added! \\n')\n",
    "os.chdir(curr_path)\n",
    "print(\"Working directory is now %s\" %curr_path)\n",
    "    \n",
    "from projdirs import datadir\n",
    "import numpy as np\n",
    "import package.get_NEM_data as gd\n",
    "from IPython.display import clear_output\n",
    "from datetime import datetime, timedelta, time\n",
    "import multiprocessing as mp\n",
    "from package.optimisation import calc_S_with_daily_forecast\n",
    "# result = calc_S_with_daily_forecast(2017, 'SA',time(0,0,0),write=False)\n",
    "\n",
    "\n",
    "pool = mp.Pool(mp.cpu_count())\n",
    "print('Started!')\n",
    "output = [pool.apply_async(calc_S_with_daily_forecast,\n",
    "                           args=(Year, state, Time, RTE))\n",
    "          for Time in [time(4,0,0)]\n",
    "          for state in ['SA','NSW']\n",
    "          for RTE in [50,60] \n",
    "          for Year in np.arange(2010,2019,1)]\n",
    "\n",
    "pool.close()\n",
    "pool.join()\n",
    "print('Completed!')"
   ]
  },
  {
   "cell_type": "markdown",
   "metadata": {},
   "source": [
    "# Create storage value with daily forecast "
   ]
  },
  {
   "cell_type": "code",
   "execution_count": null,
   "metadata": {
    "scrolled": true
   },
   "outputs": [],
   "source": [
    "import sys, os\n",
    "print(\"Operating system: %s\" %sys.platform)\n",
    "\n",
    "curr_path = 'c:\\\\Nextcloud\\\\Thermal Battery Research\\\\modelling\\\\python'\n",
    "\n",
    "if curr_path not in sys.path:\n",
    "    sys.path.append(curr_path)\n",
    "    print('Path added! \\n')\n",
    "os.chdir(curr_path)\n",
    "print(\"Working directory is now %s\" %curr_path)\n",
    "    \n",
    "from projdirs import datadir\n",
    "import numpy as np\n",
    "import package.get_NEM_data as gd\n",
    "from IPython.display import clear_output\n",
    "from datetime import datetime, timedelta, time\n",
    "import multiprocessing as mp\n",
    "from package.optimisation import calc_SV_cal_daily_forecast\n",
    "result = calc_SV_cal_daily_forecast(2020, 'SA', Time=time(23,0,0),\n",
    "                                    Onset=time(23,30,0), RTE=40)\n",
    "\n",
    "\n",
    "# pool = mp.Pool(mp.cpu_count())\n",
    "# print('Started!')\n",
    "# output = [pool.apply_async(calc_S_with_daily_forecast,\n",
    "#                            args=(Year, state, Time, RTE))\n",
    "#           for Time in [time(4,0,0)]\n",
    "#           for state in ['SA']\n",
    "#           for RTE in [50,60] \n",
    "#           for Year in np.arange(2010,2019,1)]\n",
    "\n",
    "# pool.close()\n",
    "# pool.join()\n",
    "# print('Completed!')"
   ]
  },
  {
   "cell_type": "markdown",
   "metadata": {},
   "source": [
    "# Create Storage values for Energy market with various rolling horizon of actual prices - NEM\n",
    "\n",
    "This code write the data into ```storage_value_short_foresight_%s.db```"
   ]
  },
  {
   "cell_type": "code",
   "execution_count": null,
   "metadata": {
    "jupyter": {
     "outputs_hidden": false
    },
    "scrolled": true
   },
   "outputs": [],
   "source": [
    "import sys, os\n",
    "print(\"Operating system: %s\" %sys.platform)\n",
    "curr_path = 'c:\\\\Nextcloud\\\\Thermal Battery Research\\\\modelling\\\\python'\n",
    "\n",
    "if curr_path not in sys.path:\n",
    "    sys.path.append(curr_path)\n",
    "    print('Path added! \\n')\n",
    "os.chdir(curr_path)\n",
    "\n",
    "print(\"Working directory is now %s\" %curr_path)   \n",
    "import numpy as np\n",
    "import multiprocessing as mp\n",
    "from package.optimisation import calc_SV_rolling_horizon_NEM\n",
    "from datetime import time\n",
    "\n",
    "\n",
    "# calc_SV_rolling_horizon_NEM(2019,'SA', 10, 90, 0, 14500, time(0,0,0), 1)\n",
    "\n",
    "if __name__=='__main__':\n",
    "    pool = mp.Pool(mp.cpu_count())\n",
    "    [pool.apply_async(calc_SV_rolling_horizon_NEM, args=(Year, State, SH, RTE, Loss, Cap, Time, Window))\n",
    "              for State in ['SA']\n",
    "              for SH in [10]\n",
    "              for RTE in [40,90]\n",
    "              for Loss in [0]\n",
    "              for Cap in [14500]\n",
    "              for Time in [time(0,0,0)]\n",
    "              for Window in [2,3,4]\n",
    "              for Year in np.arange(2019,2021,1)]\n",
    "    pool.close()\n",
    "    \n",
    "print('Completed!')"
   ]
  },
  {
   "cell_type": "markdown",
   "metadata": {},
   "source": [
    "# Create Storage values for Energy market with various rolling horizon of actual prices - PJM\n",
    "\n",
    "This code write the data into ```storage_value_short_foresight_%s.db```"
   ]
  },
  {
   "cell_type": "code",
   "execution_count": null,
   "metadata": {
    "scrolled": true
   },
   "outputs": [],
   "source": [
    "import sys, os\n",
    "print(\"Operating system: %s\" %sys.platform)\n",
    "curr_path = 'c:\\\\Nextcloud\\\\Thermal Battery Research\\\\modelling\\\\python'\n",
    "\n",
    "if curr_path not in sys.path:\n",
    "    sys.path.append(curr_path)\n",
    "    print('Path added! \\n')\n",
    "os.chdir(curr_path)\n",
    "\n",
    "print(\"Working directory is now %s\" %curr_path)   \n",
    "import numpy as np\n",
    "import multiprocessing as mp\n",
    "from package.optimisation import calc_SV_rolling_horizon_PJM\n",
    "from datetime import time\n",
    "\n",
    "\n",
    "\n",
    "if __name__=='__main__':\n",
    "    pool = mp.Pool(mp.cpu_count())\n",
    "    [pool.apply_async(calc_SV_rolling_horizon_PJM, args=(Year, Region, SH, RTE, Loss, Time_gen, Window,))\n",
    "              for Region in ['BGE']\n",
    "              for SH in [10]\n",
    "              for RTE in [40,90]\n",
    "              for Loss in [0]\n",
    "              for Time_gen in [time(0,0,0)]\n",
    "              for Window in [1,2,3,4]\n",
    "              for Year in np.arange(2020,2021,1)]\n",
    "    pool.close()\n",
    "    \n",
    "print('Completed!')\n",
    "\n",
    "# calc_SV_rolling_horizon_PJM(2020, 'BGE', 10, 40, 0, time(0,0,0), 2,\n",
    "#                             write=False)"
   ]
  },
  {
   "cell_type": "markdown",
   "metadata": {},
   "source": [
    "# Create Storage values for Energy market with naive forecast\n",
    "This code calculates the storage value based on the actual prices read from ```spot_price.db```. <br>\n",
    "This code write the data into ```storage_value_naive_forecast_state.db```"
   ]
  },
  {
   "cell_type": "code",
   "execution_count": null,
   "metadata": {
    "jupyter": {
     "outputs_hidden": false
    },
    "scrolled": true
   },
   "outputs": [],
   "source": [
    "import sys, os\n",
    "print(\"Operating system: %s\" %sys.platform)\n",
    "\n",
    "curr_path = 'c:\\\\Nextcloud\\\\Thermal Battery Research\\\\modelling\\\\python'\n",
    "\n",
    "\n",
    "if curr_path not in sys.path:\n",
    "    sys.path.append(curr_path)\n",
    "    print('Path added! \\n')\n",
    "os.chdir(curr_path)\n",
    "\n",
    "print(\"Working directory is now %s\" %curr_path)   \n",
    "import numpy as np\n",
    "import multiprocessing as mp\n",
    "from package.optimisation import calc_SV_naive_forecast\n",
    "from datetime import time\n",
    "\n",
    "\n",
    "# calc_SV_naive_forecast(2010,'QLD', 10, 90, 0, 14500, time(4,0,0))\n",
    "\n",
    "if __name__=='__main__':\n",
    "    pool = mp.Pool(mp.cpu_count())\n",
    "    [pool.apply_async(calc_SV_naive_forecast, args=(Year, State, SH, RTE, Loss, Cap, Time))\n",
    "              for State in ['SA']\n",
    "              for SH in [10]\n",
    "              for RTE in [40,90]\n",
    "              for Loss in [0]\n",
    "              for Cap in [14500]\n",
    "              for Time in [time(0,0,0)]\n",
    "              for Year in np.arange(2020,2021,1)]\n",
    "    pool.close()\n",
    "    \n",
    "print('Completed!')"
   ]
  },
  {
   "cell_type": "markdown",
   "metadata": {},
   "source": [
    "# Create arbitrage value for energy market for rolling horizon of forecast prices\n",
    "This code reads forecast data from databases in folder: ```Predispatch rolling```"
   ]
  },
  {
   "cell_type": "code",
   "execution_count": null,
   "metadata": {
    "jupyter": {
     "outputs_hidden": true
    }
   },
   "outputs": [],
   "source": [
    "import sys, os\n",
    "print(\"Operating system: %s\" %sys.platform)\n",
    "if sys.platform == 'win32':\n",
    "    curr_path = 'c:\\\\Nextcloud\\\\Thermal Battery Research\\\\modelling\\\\python'\n",
    "elif sys.platform == 'linux':\n",
    "    curr_path = '/home/jeff/cloud/documents/work/ANU/Thermal Battery Research/modelling/python'\n",
    "else: print(\"What operating system are you running?! I've never even heard of %s\" %sys.platform)\n",
    "if curr_path not in sys.path:\n",
    "    sys.path.append(curr_path)\n",
    "    print('Path added! \\n')\n",
    "os.chdir(curr_path)\n",
    "print(\"Working directory is now %s\" %curr_path)\n",
    "    \n",
    "import pandas as pd\n",
    "import package.sql_manager as sm\n",
    "state = 'NSW'\n",
    "db = 'storage_value_daily_forecast_%s.db'%(state)\n",
    "db_new = 'storage_value_daily_forecast_%s_new.db'%(state)\n",
    "table = 'storage_value'\n",
    "cols = [x[0] for x in sm.list_columns(db, table)]\n",
    "DATA = sm.get_data(cols, 'storage_value', db)\n",
    "df = pd.DataFrame(columns=[cols])\n",
    "\n",
    "df['state']=DATA['obj_actual']\n",
    "df['date_time']=DATA['rte']\n",
    "df['rte']=DATA['Pout'].astype(int)\n",
    "df['sh']=DATA['obj_forecast'].astype(int)\n",
    "df['loss']=DATA['loss'].astype(int)\n",
    "df['cap']=DATA['sh'].astype(int)\n",
    "df['Pin']=DATA['state']\n",
    "df['Pout']=DATA['date_time']\n",
    "df['obj_forecast']=DATA['cap']\n",
    "df['obj_actual']=DATA['Pin']\n",
    "\n",
    "sm.create_table(table,db_new,cols,create_unique_idx=True, idx_cols=cols[0:5])\n",
    "sm.replace_into_db(df,db_new,table,cols,create_unique_idx=True, idx_cols=cols[0:5])\n",
    "sm.get_data(cols,table,db_new)\n",
    "\n",
    "print('Completed!')"
   ]
  },
  {
   "cell_type": "markdown",
   "metadata": {},
   "source": [
    "# Create arbitrage values for storage with rolling forecast"
   ]
  },
  {
   "cell_type": "code",
   "execution_count": null,
   "metadata": {
    "jupyter": {
     "outputs_hidden": false
    },
    "scrolled": true
   },
   "outputs": [],
   "source": [
    "import sys, os\n",
    "print(\"Operating system: %s\" %sys.platform)\n",
    "if sys.platform == 'win32':\n",
    "    curr_path = 'c:\\\\Nextcloud\\\\Thermal Battery Research\\\\modelling\\\\python'\n",
    "elif sys.platform == 'linux':\n",
    "    curr_path = '/home/jeff/cloud/documents/work/ANU/Thermal Battery Research/modelling/python'\n",
    "else: print(\"What operating system are you running?! I've never even heard of %s\" %sys.platform)\n",
    "if curr_path not in sys.path:\n",
    "    sys.path.append(curr_path)\n",
    "    print('Path added! \\n')\n",
    "os.chdir(curr_path)\n",
    "print(\"Working directory is now %s\" %curr_path)   \n",
    "import numpy as np\n",
    "import multiprocessing as mp\n",
    "from package.optimisation import calc_rolling_storage, correct_rolling_SV\n",
    "\n",
    "calc_rolling_storage(2020, 'SA', RTE=90, )\n",
    "\n",
    "# if __name__=='__main__':\n",
    "#     pool = mp.Pool(mp.cpu_count())\n",
    "#     [pool.apply_async(calc_rolling_storage, args=(Year, State, SH, RTE))\n",
    "#               for State in (['SA'])\n",
    "#               for SH in ([10])\n",
    "#               for RTE in ([60])\n",
    "#               for Year in np.arange(2010,2019,1)]\n",
    "#     pool.close()\n",
    "#     pool.join()\n",
    "    \n",
    "# print('Completed!')\n",
    "\n",
    "# if __name__=='__main__':\n",
    "#     pool = mp.Pool(mp.cpu_count())\n",
    "#     [pool.apply_async(correct_rolling_SV, args=(State, Year, RTE))\n",
    "#               for State in (['NSW'])\n",
    "#               for SH in ([10])\n",
    "#               for RTE in ([40,90])\n",
    "#               for Year in np.arange(2010,2019,1)]\n",
    "#     pool.close()\n",
    "#     pool.join()\n",
    "    \n",
    "# print('Completed!')"
   ]
  }
 ],
 "metadata": {
  "anaconda-cloud": {},
  "kernelspec": {
   "display_name": "Python 3",
   "language": "python",
   "name": "python3"
  },
  "language_info": {
   "codemirror_mode": {
    "name": "ipython",
    "version": 3
   },
   "file_extension": ".py",
   "mimetype": "text/x-python",
   "name": "python",
   "nbconvert_exporter": "python",
   "pygments_lexer": "ipython3",
   "version": "3.8.8"
  }
 },
 "nbformat": 4,
 "nbformat_minor": 4
}
